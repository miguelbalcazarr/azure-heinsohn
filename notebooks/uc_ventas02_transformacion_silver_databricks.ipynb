{
 "cells": [
  {
   "cell_type": "markdown",
   "metadata": {
    "application/vnd.databricks.v1+cell": {
     "cellMetadata": {
      "byteLimit": 2048000,
      "rowLimit": 10000
     },
     "inputWidgets": {},
     "nuid": "236f459c-d109-42fc-ae40-556906754c1d",
     "showTitle": false,
     "tableResultSettingsMap": {},
     "title": ""
    }
   },
   "source": [
    "\n",
    "# Transformación de Datos: Capa Silver en Azure Databricks\n",
    "\n",
    "Este notebook lee datos desde la capa Bronze (Delta Lake gestionada) y aplica transformaciones y limpieza antes de escribir en la **capa Silver** utilizando `MERGE INTO` para control de cambios.\n"
   ]
  },
  {
   "cell_type": "code",
   "execution_count": 0,
   "metadata": {
    "application/vnd.databricks.v1+cell": {
     "cellMetadata": {
      "byteLimit": 2048000,
      "rowLimit": 10000
     },
     "inputWidgets": {},
     "nuid": "c914f1e1-fe47-4d12-bd22-77ab6f299abb",
     "showTitle": false,
     "tableResultSettingsMap": {},
     "title": ""
    }
   },
   "outputs": [],
   "source": [
    "from pyspark.sql import SparkSession\n",
    "from pyspark.sql.functions import upper\n",
    "from delta.tables import DeltaTable"
   ]
  },
  {
   "cell_type": "code",
   "execution_count": 0,
   "metadata": {
    "application/vnd.databricks.v1+cell": {
     "cellMetadata": {
      "byteLimit": 2048000,
      "rowLimit": 10000
     },
     "inputWidgets": {},
     "nuid": "335ce188-216d-4015-8937-54b6dfc302a9",
     "showTitle": false,
     "tableResultSettingsMap": {},
     "title": ""
    }
   },
   "outputs": [],
   "source": [
    "from typing import Optional\n",
    "from pyspark.sql.functions import col, current_timestamp, expr, lit\n",
    "from functools import reduce\n",
    "from operator import and_\n",
    "\n",
    "def leer_desde_bronze(\n",
    "    nombre_tabla: str,\n",
    "    catalog_name: str = \"desarrollo\",\n",
    "    db_silver: str = \"bronze_ventas\",\n",
    "    mode: str = \"full\",                 # \"full\" | \"diff\"\n",
    "    ts_col: str = \"FECCARGA\",\n",
    "    last_n_days: Optional[int] = None,  # ej. 2  -> últimos 2 días\n",
    "    last_n_hours: Optional[int] = None, # ej. 6  -> últimas 6 horas\n",
    "    since: Optional[str] = None,        # \"YYYY-MM-DD\" o \"YYYY-MM-DD HH:mm:ss\"\n",
    "    until: Optional[str] = None,        # límite superior EXCLUSIVO\n",
    "    drop_nulls: bool = True\n",
    "):\n",
    "    full = f\"{catalog_name}.{db_silver}.{nombre_tabla}\"\n",
    "    if not spark.catalog.tableExists(full):\n",
    "        raise ValueError(f\"La tabla {full} no existe en el metastore.\")\n",
    "\n",
    "    df = spark.table(full)\n",
    "\n",
    "    # Validar tipo timestamp\n",
    "    dtype = dict(df.dtypes).get(ts_col, \"\").lower()\n",
    "    if dtype != \"timestamp\":\n",
    "        raise ValueError(f\"La columna '{ts_col}' debe ser timestamp. Actual: {dtype}\")\n",
    "\n",
    "    if mode.lower() == \"full\":\n",
    "        return df if not drop_nulls else df.filter(col(ts_col).isNotNull())\n",
    "\n",
    "    # --- Diferencial por timestamp ---\n",
    "    conds = []\n",
    "    if drop_nulls:\n",
    "        conds.append(col(ts_col).isNotNull())\n",
    "\n",
    "    if last_n_days is not None:\n",
    "        conds.append(col(ts_col) >= (current_timestamp() - expr(f\"INTERVAL {int(last_n_days)} DAYS\")))\n",
    "    if last_n_hours is not None:\n",
    "        conds.append(col(ts_col) >= (current_timestamp() - expr(f\"INTERVAL {int(last_n_hours)} HOURS\")))\n",
    "    if since:\n",
    "        conds.append(col(ts_col) >= lit(since).cast(\"timestamp\"))\n",
    "    if until:\n",
    "        conds.append(col(ts_col) <  lit(until).cast(\"timestamp\"))  # upper bound abierto\n",
    "\n",
    "    if not conds:\n",
    "        raise ValueError(\"En mode='diff' especifica last_n_days/last_n_hours o since/until.\")\n",
    "\n",
    "    return df.filter(reduce(and_, conds))"
   ]
  },
  {
   "cell_type": "code",
   "execution_count": 0,
   "metadata": {
    "application/vnd.databricks.v1+cell": {
     "cellMetadata": {
      "byteLimit": 2048000,
      "rowLimit": 10000
     },
     "inputWidgets": {},
     "nuid": "40f4bb6b-25ee-4ec0-80fd-22c61abbeaf2",
     "showTitle": false,
     "tableResultSettingsMap": {},
     "title": ""
    }
   },
   "outputs": [],
   "source": [
    "from pyspark.sql.functions import col, to_timestamp, when\n",
    "\n",
    "# Leer desde silver\n",
    "#df = leer_desde_silver(\"md_camas\", \"clinica_silver\", mode=\"diff\",\n",
    "#                           since=\"2025-08-20 00:00:00\", until=\"2025-08-23 00:00:00\")\n",
    "subcategoria = leer_desde_bronze(\"t_subcategoria\", db_silver=\"bronze_ventas\", mode=\"full\")\n",
    "categoria = leer_desde_bronze(\"t_categoria\", db_silver=\"bronze_ventas\", mode=\"full\")\n",
    "producto = leer_desde_bronze(\"t_producto\", db_silver=\"bronze_ventas\", mode=\"full\")\n",
    "ubigeo = leer_desde_bronze(\"t_ubigeo\", db_silver=\"bronze_ventas\", mode=\"full\")\n",
    "segmento = leer_desde_bronze(\"t_segmento\", db_silver=\"bronze_ventas\", mode=\"full\")\n",
    "mercado = leer_desde_bronze(\"t_mercado\", db_silver=\"bronze_ventas\", mode=\"full\")\n",
    "sectoreconomico = leer_desde_bronze(\"t_sectoreconomico\", db_silver=\"bronze_ventas\", mode=\"full\")\n",
    "# cliente = leer_desde_bronze(\"t_cliente\", db_silver=\"bronze_ventas\", mode=\"full\")\n",
    "vendedor = leer_desde_bronze(\"t_vendedor\", db_silver=\"bronze_ventas\", mode=\"full\")\n",
    "modalidadenvio = leer_desde_bronze(\"t_modalidadenvio\", db_silver=\"bronze_ventas\", mode=\"full\")\n",
    "modalidadventa = leer_desde_bronze(\"t_modalidadventa\", db_silver=\"bronze_ventas\", mode=\"full\")\n",
    "moneda = leer_desde_bronze(\"t_moneda\", db_silver=\"bronze_ventas\", mode=\"full\")\n",
    "mediopago = leer_desde_bronze(\"t_mediopago\", db_silver=\"bronze_ventas\", mode=\"full\")\n",
    "prioridadpedido = leer_desde_bronze(\"t_prioridadpedido\", db_silver=\"bronze_ventas\", mode=\"full\")\n",
    "pedido = leer_desde_bronze(\"t_pedido\", db_silver=\"bronze_ventas\", mode=\"full\")\n",
    "\n",
    "# Mostrar la estructura del DataFrame después de la limpieza\n",
    "\n"
   ]
  },
  {
   "cell_type": "code",
   "execution_count": 0,
   "metadata": {
    "application/vnd.databricks.v1+cell": {
     "cellMetadata": {
      "byteLimit": 2048000,
      "rowLimit": 10000
     },
     "inputWidgets": {},
     "nuid": "7ffdbb2c-a286-4bdc-8a03-b3eb22ac4395",
     "showTitle": false,
     "tableResultSettingsMap": {},
     "title": ""
    }
   },
   "outputs": [],
   "source": [
    "# SILVER \n",
    "from typing import Dict, List, Tuple, Optional\n",
    "from pyspark.sql import DataFrame, Window\n",
    "from pyspark.sql.functions import (\n",
    "    col, lit, when, trim, upper, lower, lpad, rpad, regexp_replace,\n",
    "    to_timestamp, current_timestamp, sha2, concat_ws, row_number, length,\n",
    "    coalesce\n",
    ")\n",
    "from pyspark.sql.types import TimestampType\n",
    "\n",
    "def transformar_silver_df(\n",
    "    df: DataFrame,\n",
    "    *,\n",
    "    # 1) Conformado y normalización\n",
    "    rename_map: Optional[Dict[str, str]] = None,\n",
    "    casts: Optional[Dict[str, str]] = None,\n",
    "    normalize_whitespace_cols: Optional[List[str]] = None,\n",
    "    trim_cols: Optional[List[str]] = None,\n",
    "    upper_cols: Optional[List[str]] = None,\n",
    "    lower_cols: Optional[List[str]] = None,\n",
    "    pad_left: Optional[Dict[str, Tuple[int, str]]] = None,\n",
    "    pad_right: Optional[Dict[str, Tuple[int, str]]] = None,\n",
    "\n",
    "    # 2) Incremental & dedupe\n",
    "    bk_cols: Optional[List[str]] = None,        # business key\n",
    "    ts_col: Optional[str] = None,               # timestamp de la fila\n",
    "    ts_fmt: str = \"yyyy-MM-dd HH:mm:ss\",\n",
    "    watermark_value: Optional[str] = None,      # e.g. \"2025-08-01 00:00:00\"\n",
    "    keep_latest: bool = True,\n",
    "\n",
    "    # 3) Reglas ligeras\n",
    "    fillna_map: Optional[Dict[str, object]] = None,\n",
    "    value_ranges: Optional[Dict[str, Tuple[float, float]]] = None,\n",
    "    non_negative_cols: Optional[List[str]] = None,\n",
    "    regex_validations: Optional[Dict[str, str]] = None,\n",
    "    not_null_cols: Optional[List[str]] = None,\n",
    "\n",
    "    # 4) Lookups (enriquecimiento in-memory)\n",
    "    # {\"desc_pais\": (df_ref, \"cod_pais\", \"descripcion\", \"DESCONOCIDO\")}\n",
    "    lookups: Optional[Dict[str, Tuple[DataFrame, str, str, object]]] = None,\n",
    "\n",
    "    # 5) Auditoría ligera (sin SK)\n",
    "    etl_source: Optional[str] = None,\n",
    "    etl_batch_id: Optional[str] = None,\n",
    "\n",
    "    # 6) Soft-delete\n",
    "    soft_delete_flag_col: Optional[str] = None,\n",
    "    treat_deleted_as_reject: bool = False,\n",
    "\n",
    "    # 7) Métricas\n",
    "    compute_metrics: bool = True,\n",
    "\n",
    "    # 8) Columna motivo de rechazo\n",
    "    reject_reason_col: str = \"_reject_reason\",\n",
    ") -> Tuple[DataFrame, DataFrame, Dict]:\n",
    "    dq = {}\n",
    "    if compute_metrics:\n",
    "        dq[\"rows_in\"] = df.count()\n",
    "\n",
    "    # --- Renombrado\n",
    "    if rename_map:\n",
    "        for old, new in rename_map.items():\n",
    "            if old in df.columns and old != new:\n",
    "                df = df.withColumnRenamed(old, new)\n",
    "\n",
    "    # --- Casts\n",
    "    if casts:\n",
    "        for c, t in casts.items():\n",
    "            if c in df.columns:\n",
    "                if t.lower() == \"timestamp\" and not isinstance(df.schema[c].dataType, TimestampType):\n",
    "                    df = df.withColumn(c, to_timestamp(col(c), ts_fmt))\n",
    "                else:\n",
    "                    df = df.withColumn(c, col(c).cast(t))\n",
    "\n",
    "    # ts a timestamp si aplica\n",
    "    if ts_col and ts_col in df.columns and not isinstance(df.schema[ts_col].dataType, TimestampType):\n",
    "        df = df.withColumn(ts_col, to_timestamp(col(ts_col), ts_fmt))\n",
    "\n",
    "    # --- Normalización\n",
    "    def collapse_ws(cname: str):\n",
    "        return trim(regexp_replace(col(cname), r\"\\s+\", \" \"))\n",
    "\n",
    "    if normalize_whitespace_cols:\n",
    "        for c in normalize_whitespace_cols:\n",
    "            if c in df.columns:\n",
    "                df = df.withColumn(c, collapse_ws(c))\n",
    "    if trim_cols:\n",
    "        for c in trim_cols:\n",
    "            if c in df.columns:\n",
    "                df = df.withColumn(c, trim(col(c)))\n",
    "    if upper_cols:\n",
    "        for c in upper_cols:\n",
    "            if c in df.columns:\n",
    "                df = df.withColumn(c, upper(col(c)))\n",
    "    if lower_cols:\n",
    "        for c in lower_cols:\n",
    "            if c in df.columns:\n",
    "                df = df.withColumn(c, lower(col(c)))\n",
    "    if pad_left:\n",
    "        for c, (ln, ch) in pad_left.items():\n",
    "            if c in df.columns:\n",
    "                df = df.withColumn(c, lpad(col(c).cast(\"string\"), ln, ch))\n",
    "    if pad_right:\n",
    "        for c, (ln, ch) in pad_right.items():\n",
    "            if c in df.columns:\n",
    "                df = df.withColumn(c, rpad(col(c).cast(\"string\"), ln, ch))\n",
    "\n",
    "    # --- Watermark incremental\n",
    "    if watermark_value and ts_col and ts_col in df.columns:\n",
    "        wm_ts = to_timestamp(lit(watermark_value), ts_fmt)\n",
    "        df = df.where(col(ts_col) >= wm_ts)\n",
    "\n",
    "    if compute_metrics:\n",
    "        dq[\"rows_after_watermark\"] = df.count()\n",
    "\n",
    "    # --- Defaults\n",
    "    if fillna_map:\n",
    "        df = df.fillna({k: v for k, v in fillna_map.items() if k in df.columns})\n",
    "\n",
    "    # --- Reglas ligeras\n",
    "    if non_negative_cols:\n",
    "        for c in non_negative_cols:\n",
    "            if c in df.columns:\n",
    "                df = df.withColumn(c, when(col(c) < 0, lit(0)).otherwise(col(c)))\n",
    "    if value_ranges:\n",
    "        for c, (mn, mx) in value_ranges.items():\n",
    "            if c in df.columns:\n",
    "                df = df.withColumn(\n",
    "                    c,\n",
    "                    when(col(c) < mn, lit(mn)).when(col(c) > mx, lit(mx)).otherwise(col(c))\n",
    "                )\n",
    "\n",
    "    # --- Validaciones → rejects\n",
    "    rejects = None\n",
    "    def _union_rejects(bad: DataFrame):\n",
    "        nonlocal rejects\n",
    "        rejects = bad if rejects is None else rejects.unionByName(bad, allowMissingColumns=True)\n",
    "\n",
    "    if not_null_cols:\n",
    "        for c in not_null_cols:\n",
    "            if c in df.columns:\n",
    "                bad = df.where(col(c).isNull()).withColumn(reject_reason_col, lit(f\"NOT_NULL({c})\"))\n",
    "                _union_rejects(bad)\n",
    "    if regex_validations:\n",
    "        for c, pattern in regex_validations.items():\n",
    "            if c in df.columns:\n",
    "                bad = df.where(~col(c).rlike(pattern)).withColumn(reject_reason_col, lit(f\"REGEX_FAIL({c})\"))\n",
    "                _union_rejects(bad)\n",
    "    if soft_delete_flag_col and soft_delete_flag_col in df.columns and treat_deleted_as_reject:\n",
    "        bad = df.where(coalesce(col(soft_delete_flag_col), lit(0)) != lit(0)) \\\n",
    "                 .withColumn(reject_reason_col, lit(\"SOFT_DELETED\"))\n",
    "        _union_rejects(bad)\n",
    "\n",
    "    # Excluir rechazados del válido\n",
    "    if rejects is not None:\n",
    "        all_cols = df.columns\n",
    "        sig_expr = sha2(concat_ws(\"§\", *[col(c).cast(\"string\") for c in all_cols]), 256)\n",
    "        df = df.withColumn(\"_row_sig\", sig_expr)\n",
    "        rejects = rejects.withColumn(\"_row_sig\", sig_expr)\n",
    "        df = df.join(rejects.select(\"_row_sig\").dropDuplicates(), on=\"_row_sig\", how=\"left_anti\").drop(\"_row_sig\")\n",
    "        rejects = rejects.drop(\"_row_sig\")\n",
    "\n",
    "    if compute_metrics:\n",
    "        dq[\"rows_rejects\"] = 0 if rejects is None else rejects.count()\n",
    "        dq[\"rows_after_rejects\"] = df.count()\n",
    "\n",
    "    # --- Lookups\n",
    "    if lookups:\n",
    "        for target_col, (df_ref, key_col, value_col, default_value) in lookups.items():\n",
    "            ref = df_ref.select(col(key_col).alias(f\"lk_{key_col}\"),\n",
    "                                col(value_col).alias(f\"lk_{value_col}\")).dropDuplicates()\n",
    "            if key_col in df.columns:\n",
    "                df = (\n",
    "                    df.join(ref, df[key_col] == ref[f\"lk_{key_col}\"], \"left\")\n",
    "                      .withColumn(target_col, coalesce(col(f\"lk_{value_col}\"), lit(default_value)))\n",
    "                      .drop(f\"lk_{key_col}\", f\"lk_{value_col}\")\n",
    "                )\n",
    "            else:\n",
    "                df = df.withColumn(target_col, lit(default_value))\n",
    "\n",
    "    # --- Dedupe por BK + TS\n",
    "    if bk_cols and len(bk_cols) > 0:\n",
    "        if ts_col and ts_col in df.columns:\n",
    "            order_col = col(ts_col).desc() if keep_latest else col(ts_col).asc()\n",
    "        else:\n",
    "            order_col = length(concat_ws(\"§\", *[col(c).cast(\"string\") for c in bk_cols])).desc()\n",
    "        w = Window.partitionBy(*[col(c) for c in bk_cols]).orderBy(order_col)\n",
    "        df = df.withColumn(\"_rn\", row_number().over(w)).where(col(\"_rn\") == 1).drop(\"_rn\")\n",
    "\n",
    "    if compute_metrics:\n",
    "        dq[\"rows_after_dedupe\"] = df.count()\n",
    "\n",
    "    # --- Auditoría mínima (opcional)\n",
    "    if etl_source:\n",
    "        df = df.withColumn(\"_etl_source\", lit(etl_source))\n",
    "    if etl_batch_id:\n",
    "        df = df.withColumn(\"_etl_batch_id\", lit(etl_batch_id))\n",
    "    df = df.withColumn(\"_etl_loaded_at\", current_timestamp())\n",
    "\n",
    "    if compute_metrics:\n",
    "        dq[\"rows_out\"] = df.count()\n",
    "\n",
    "    if rejects is None:\n",
    "        rejects = df.limit(0).withColumn(reject_reason_col, lit(None).cast(\"string\"))\n",
    "\n",
    "    return df, rejects, dq\n"
   ]
  },
  {
   "cell_type": "code",
   "execution_count": 0,
   "metadata": {
    "application/vnd.databricks.v1+cell": {
     "cellMetadata": {
      "byteLimit": 2048000,
      "rowLimit": 10000
     },
     "inputWidgets": {},
     "nuid": "61c98ed8-f837-4c9c-a62c-65f129947ab9",
     "showTitle": false,
     "tableResultSettingsMap": {},
     "title": ""
    }
   },
   "outputs": [],
   "source": [
    "df_Subcategoria, df_rech_subcategoria, dq = transformar_silver_df(\n",
    "    subcategoria,\n",
    "    rename_map={\"CODSUBCAT\":\"id_subcategoria\",\"CODCAT\":\"id_categoria\",\"FECCARGA\":\"fecha_carga\", \"NOMSUBCAT\":\"des_subcategoria\"},\n",
    "    casts={\"fecha_carga\":\"timestamp\"},\n",
    "    normalize_whitespace_cols=[\"des_subcategoria\"],\n",
    "    trim_cols=[\"des_subcategoria\"],\n",
    "    bk_cols=[\"id_subcategoria\"],\n",
    "    ts_col=\"fecha_carga\",\n",
    "    watermark_value=\"2025-08-01 00:00:00\",\n",
    "    fillna_map={\"id_categoria\":0},\n",
    "    non_negative_cols=[\"id_categoria\"],\n",
    "    regex_validations=False,\n",
    "    not_null_cols=[\"id_subcategoria\",\"fecha_carga\"],\n",
    "    ##lookups={\"id_categoria\": (categoria, \"codcat\", \"DESCONOCIDO\")},\n",
    "    etl_source=\"silver_subcategoria\",\n",
    "    etl_batch_id=\"20250824_01\",\n",
    "    compute_metrics=False\n",
    ")"
   ]
  },
  {
   "cell_type": "code",
   "execution_count": 0,
   "metadata": {
    "application/vnd.databricks.v1+cell": {
     "cellMetadata": {
      "byteLimit": 2048000,
      "rowLimit": 10000
     },
     "inputWidgets": {},
     "nuid": "c989fcdf-3eb1-4bd2-ac9b-d4c3efbfec1b",
     "showTitle": false,
     "tableResultSettingsMap": {},
     "title": ""
    }
   },
   "outputs": [],
   "source": [
    "df_Categoria, df_rech_categoria, dq = transformar_silver_df(\n",
    "    categoria,\n",
    "    rename_map={\"CODCAT\":\"id_categoria\",\"FECCARGA\":\"fecha_carga\", \"NOMCAT\":\"des_categoria\"},\n",
    "    casts={\"fecha_carga\":\"timestamp\"},\n",
    "    normalize_whitespace_cols=[\"des_categoria\"],\n",
    "    trim_cols=[\"des_categoria\"],\n",
    "    bk_cols=[\"id_categoria\"],\n",
    "    ts_col=\"fecha_carga\",\n",
    "    watermark_value=\"2025-08-01 00:00:00\",\n",
    "    fillna_map={\"id_categoria\":0},\n",
    "    non_negative_cols=[\"id_categoria\"],\n",
    "    regex_validations=False,\n",
    "    not_null_cols=[\"id_categoria\",\"fecha_carga\"],\n",
    "    ##lookups={\"id_categoria\": (categoria, \"codcat\", \"DESCONOCIDO\")},\n",
    "    etl_source=\"silver_categoria\",\n",
    "    etl_batch_id=\"20250824_01\",\n",
    "    compute_metrics=False\n",
    ")"
   ]
  },
  {
   "cell_type": "code",
   "execution_count": 0,
   "metadata": {
    "application/vnd.databricks.v1+cell": {
     "cellMetadata": {
      "byteLimit": 2048000,
      "rowLimit": 10000
     },
     "inputWidgets": {},
     "nuid": "60bc1a98-a165-4a65-9ce7-428cf8522551",
     "showTitle": false,
     "tableResultSettingsMap": {},
     "title": ""
    }
   },
   "outputs": [],
   "source": [
    "df_Moneda, df_rech_moneda, dq = transformar_silver_df(\n",
    "    moneda,\n",
    "    rename_map={\"CODMNDA\":\"id_moneda\",\"FECCARGA\":\"fecha_carga\", \"DESMNDA\":\"des_moneda\", \"DESISO\":\"des_abrmoneda\", \"DESSIMB\":\"des_simbolo\"},\n",
    "    casts={\"fecha_carga\":\"timestamp\"},\n",
    "    normalize_whitespace_cols=[\"des_moneda\"],\n",
    "    trim_cols=[\"des_moneda\"],\n",
    "    bk_cols=[\"id_moneda\"],\n",
    "    ts_col=\"fecha_carga\",\n",
    "    watermark_value=\"2025-08-01 00:00:00\",\n",
    "    fillna_map={\"id_moneda\":0},\n",
    "    non_negative_cols=[\"id_moneda\"],\n",
    "    regex_validations=False,\n",
    "    not_null_cols=[\"id_moneda\",\"fecha_carga\"],\n",
    "    ##lookups={\"id_categoria\": (categoria, \"codcat\", \"DESCONOCIDO\")},\n",
    "    etl_source=\"silver_moneda\",\n",
    "    etl_batch_id=\"20250824_01\",\n",
    "    compute_metrics=False\n",
    ")"
   ]
  },
  {
   "cell_type": "code",
   "execution_count": 0,
   "metadata": {
    "application/vnd.databricks.v1+cell": {
     "cellMetadata": {
      "byteLimit": 2048000,
      "rowLimit": 10000
     },
     "inputWidgets": {},
     "nuid": "0e813c28-fc6d-4250-9329-73e832f98f51",
     "showTitle": false,
     "tableResultSettingsMap": {},
     "title": ""
    }
   },
   "outputs": [],
   "source": [
    "df_Producto, df_rech_producto, dq = transformar_silver_df(\n",
    "    producto,\n",
    "    rename_map={\"IDPRODUCTO\":\"id_producto\",\"FECCARGA\":\"fecha_carga\", \"NOMPROD\":\"des_producto\" , \"CODPROD\":\"cod_producto\" , \"CODSUBCAT\":\"id_subcategoria\", \"CODMNDA\":\"id_moneda\", \"MTOPRECUNIT\":\"mto_preciounitario\"},\n",
    "    casts={\"fecha_carga\":\"timestamp\"},\n",
    "    normalize_whitespace_cols=[\"des_producto\"],\n",
    "    trim_cols=[\"des_producto\"],\n",
    "    bk_cols=[\"id_producto\"],\n",
    "    ts_col=\"fecha_carga\",\n",
    "    watermark_value=\"2025-08-01 00:00:00\",\n",
    "    fillna_map={\"id_producto\":0},\n",
    "    non_negative_cols=[\"id_producto\"],\n",
    "    regex_validations=False,\n",
    "    not_null_cols=[\"id_producto\",\"fecha_carga\"],\n",
    "    ##lookups={\"id_categoria\": (categoria, \"codcat\", \"DESCONOCIDO\")},\n",
    "    etl_source=\"silver_producto\",\n",
    "    etl_batch_id=\"20250824_01\",\n",
    "    compute_metrics=False\n",
    ")"
   ]
  },
  {
   "cell_type": "code",
   "execution_count": 0,
   "metadata": {
    "application/vnd.databricks.v1+cell": {
     "cellMetadata": {
      "byteLimit": 2048000,
      "rowLimit": 10000
     },
     "inputWidgets": {},
     "nuid": "8446f97a-26bc-4874-bf17-98e466e680df",
     "showTitle": false,
     "tableResultSettingsMap": {},
     "title": ""
    }
   },
   "outputs": [],
   "source": [
    "df_Segmento, df_rech_segmento, dq = transformar_silver_df(\n",
    "    segmento,\n",
    "    rename_map={\"CODSGMNTO\":\"id_segmento\",\"FECCARGA\":\"fecha_carga\", \"DESSGMNTO\":\"des_segmento\"},\n",
    "    casts={\"fecha_carga\":\"timestamp\"},\n",
    "    normalize_whitespace_cols=[\"des_segmento\"],\n",
    "    trim_cols=[\"des_segmento\"],\n",
    "    bk_cols=[\"id_segmento\"],\n",
    "    ts_col=\"fecha_carga\",\n",
    "    watermark_value=\"2025-08-01 00:00:00\",\n",
    "    fillna_map={\"id_segmento\":0},\n",
    "    non_negative_cols=[\"id_segmento\"],\n",
    "    regex_validations=False,\n",
    "    not_null_cols=[\"id_segmento\",\"fecha_carga\"],\n",
    "    ##lookups={\"id_categoria\": (categoria, \"codcat\", \"DESCONOCIDO\")},\n",
    "    etl_source=\"silver_segmento\",\n",
    "    etl_batch_id=\"20250824_01\",\n",
    "    compute_metrics=False\n",
    ")"
   ]
  },
  {
   "cell_type": "code",
   "execution_count": 0,
   "metadata": {
    "application/vnd.databricks.v1+cell": {
     "cellMetadata": {
      "byteLimit": 2048000,
      "rowLimit": 10000
     },
     "inputWidgets": {},
     "nuid": "01e59d84-498c-4c83-b08f-51913f949ab4",
     "showTitle": false,
     "tableResultSettingsMap": {},
     "title": ""
    }
   },
   "outputs": [],
   "source": [
    "df_Ubigeo, df_rech_ubigeo, dq = transformar_silver_df(\n",
    "    ubigeo,\n",
    "    rename_map={\"CODUBIGEO\":\"id_ubigeo\",\"FECCARGA\":\"fecha_carga\", \"NOMCIUDAD\":\"nom_ciudad\", \"NOMESTADO\":\"nom_estado\", \"NOMPAIS\":\"nom_pais\" , \"NOMREGION\":\"nom_region\"},\n",
    "    casts={\"fecha_carga\":\"timestamp\"},\n",
    "    normalize_whitespace_cols=[\"nom_ciudad\"],\n",
    "    trim_cols=[\"nom_ciudad\"],\n",
    "    bk_cols=[\"id_ubigeo\"],\n",
    "    ts_col=\"fecha_carga\",\n",
    "    watermark_value=\"2025-08-01 00:00:00\",\n",
    "    fillna_map={\"id_ubigeo\":0},\n",
    "    non_negative_cols=[\"id_ubigeo\"],\n",
    "    regex_validations=False,\n",
    "    not_null_cols=[\"id_ubigeo\",\"fecha_carga\"],\n",
    "    ##lookups={\"id_categoria\": (categoria, \"codcat\", \"DESCONOCIDO\")},\n",
    "    etl_source=\"silver_ubigeo\",\n",
    "    etl_batch_id=\"20250824_01\",\n",
    "    compute_metrics=False\n",
    ")"
   ]
  },
  {
   "cell_type": "code",
   "execution_count": 0,
   "metadata": {
    "application/vnd.databricks.v1+cell": {
     "cellMetadata": {
      "byteLimit": 2048000,
      "rowLimit": 10000
     },
     "inputWidgets": {},
     "nuid": "d5147a34-2070-46d2-801c-061f2c8343a7",
     "showTitle": false,
     "tableResultSettingsMap": {},
     "title": ""
    }
   },
   "outputs": [],
   "source": [
    "df_Mercado, df_rech_mercado, dq = transformar_silver_df(\n",
    "    mercado,\n",
    "    rename_map={\"CODMRCADO\":\"id_mercado\",\"FECCARGA\":\"fecha_carga\", \"DESMERCADO\":\"des_mercado\"},\n",
    "    casts={\"fecha_carga\":\"timestamp\"},\n",
    "    normalize_whitespace_cols=[\"des_mercado\"],\n",
    "    trim_cols=[\"des_mercado\"],\n",
    "    bk_cols=[\"id_mercado\"],\n",
    "    ts_col=\"fecha_carga\",\n",
    "    watermark_value=\"2025-08-01 00:00:00\",\n",
    "    fillna_map={\"id_mercado\":0},\n",
    "    non_negative_cols=[\"id_mercado\"],\n",
    "    regex_validations=False,\n",
    "    not_null_cols=[\"id_mercado\",\"fecha_carga\"],\n",
    "    ##lookups={\"id_categoria\": (categoria, \"codcat\", \"DESCONOCIDO\")},\n",
    "    etl_source=\"silver_mercado\",\n",
    "    etl_batch_id=\"20250824_01\",\n",
    "    compute_metrics=False\n",
    ")"
   ]
  },
  {
   "cell_type": "code",
   "execution_count": 0,
   "metadata": {
    "application/vnd.databricks.v1+cell": {
     "cellMetadata": {
      "byteLimit": 2048000,
      "rowLimit": 10000
     },
     "inputWidgets": {},
     "nuid": "9338b67f-c7be-42e6-97dd-9865e18d044b",
     "showTitle": false,
     "tableResultSettingsMap": {},
     "title": ""
    }
   },
   "outputs": [],
   "source": [
    "df_Sectoreconomico, df_rech_sectoreconomico, dq = transformar_silver_df(\n",
    "    sectoreconomico,\n",
    "    rename_map={\"CODSECTECON\":\"id_sectoreconomico\",\"CODSGMNTO\":\"id_segmento\",\"FECCARGA\":\"fecha_carga\", \"DESSECTECON\":\"des_sectoreconomico\"},\n",
    "    casts={\"fecha_carga\":\"timestamp\"},\n",
    "    normalize_whitespace_cols=[\"des_sectoreconomico\"],\n",
    "    trim_cols=[\"des_sectoreconomico\"],\n",
    "    bk_cols=[\"id_sectoreconomico\"],\n",
    "    ts_col=\"fecha_carga\",\n",
    "    watermark_value=\"2025-08-01 00:00:00\",\n",
    "    fillna_map={\"id_sectoreconomico\":0},\n",
    "    non_negative_cols=[\"id_sectoreconomico\"],\n",
    "    regex_validations=False,\n",
    "    not_null_cols=[\"id_sectoreconomico\",\"fecha_carga\"],\n",
    "    ##lookups={\"id_categoria\": (categoria, \"codcat\", \"DESCONOCIDO\")},\n",
    "    etl_source=\"silver_sectoreconomico\",\n",
    "    etl_batch_id=\"20250824_01\",\n",
    "    compute_metrics=False\n",
    ")"
   ]
  },
  {
   "cell_type": "code",
   "execution_count": 0,
   "metadata": {
    "application/vnd.databricks.v1+cell": {
     "cellMetadata": {
      "byteLimit": 2048000,
      "rowLimit": 10000
     },
     "inputWidgets": {},
     "nuid": "b0de34ed-15f2-4b95-b751-08abd82aac59",
     "showTitle": false,
     "tableResultSettingsMap": {},
     "title": ""
    }
   },
   "outputs": [],
   "source": [
    "# df_Cliente, df_rech_cliente, dq = transformar_silver_df(\n",
    "#     cliente,\n",
    "#     rename_map={\"IDCLI\":\"id_cliente\",\"FECCARGA\":\"fecha_carga\", \"NOMCLI\":\"nom_cliente\", \"CODCLI\":\"cod_cliente\", \"CODUBIGEO\":\"id_ubigeo\", \"CODSECTECON\":\"id_sectoreconomico\", \"CODMRCADO\":\"id_mercado\"},\n",
    "#     casts={\"fecha_carga\":\"timestamp\"},\n",
    "#     normalize_whitespace_cols=[\"nom_cliente\"],\n",
    "#     trim_cols=[\"nom_cliente\"],\n",
    "#     bk_cols=[\"id_cliente\"],\n",
    "#     ts_col=\"fecha_carga\",\n",
    "#     watermark_value=\"2025-08-01 00:00:00\",\n",
    "#     fillna_map={\"id_cliente\":0},\n",
    "#     non_negative_cols=[\"id_cliente\"],\n",
    "#     regex_validations=False,\n",
    "#     not_null_cols=[\"id_cliente\",\"fecha_carga\"],\n",
    "#     ##lookups={\"id_categoria\": (categoria, \"codcat\", \"DESCONOCIDO\")},\n",
    "#     etl_source=\"silver_cliente\",\n",
    "#     etl_batch_id=\"20250824_01\",\n",
    "#     compute_metrics=False\n",
    "# )"
   ]
  },
  {
   "cell_type": "code",
   "execution_count": 0,
   "metadata": {
    "application/vnd.databricks.v1+cell": {
     "cellMetadata": {
      "byteLimit": 2048000,
      "rowLimit": 10000
     },
     "inputWidgets": {},
     "nuid": "0da17f9f-8260-4173-a2fe-e922a701341c",
     "showTitle": false,
     "tableResultSettingsMap": {},
     "title": ""
    }
   },
   "outputs": [],
   "source": [
    "df_Mediopago, df_rech_mediopago, dq = transformar_silver_df(\n",
    "    mediopago,\n",
    "    rename_map={\"CODMEDIOPAGO\":\"id_mediopago\",\"FECCARGA\":\"fecha_carga\", \"DESMEDIOPAGO\":\"des_mediopago\"},\n",
    "    casts={\"fecha_carga\":\"timestamp\"},\n",
    "    normalize_whitespace_cols=[\"des_mediopago\"],\n",
    "    trim_cols=[\"des_mediopago\"],\n",
    "    bk_cols=[\"id_mediopago\"],\n",
    "    ts_col=\"fecha_carga\",\n",
    "    watermark_value=\"2025-08-01 00:00:00\",\n",
    "    fillna_map={\"id_mediopago\":0},\n",
    "    non_negative_cols=[\"id_mediopago\"],\n",
    "    regex_validations=False,\n",
    "    not_null_cols=[\"id_mediopago\",\"fecha_carga\"],\n",
    "    ##lookups={\"id_categoria\": (categoria, \"codcat\", \"DESCONOCIDO\")},\n",
    "    etl_source=\"silver_mediopago\",\n",
    "    etl_batch_id=\"20250824_01\",\n",
    "    compute_metrics=False\n",
    ")"
   ]
  },
  {
   "cell_type": "code",
   "execution_count": 0,
   "metadata": {
    "application/vnd.databricks.v1+cell": {
     "cellMetadata": {
      "byteLimit": 2048000,
      "rowLimit": 10000
     },
     "inputWidgets": {},
     "nuid": "0d307fd5-02f0-4766-b08a-d1f90d40d059",
     "showTitle": false,
     "tableResultSettingsMap": {},
     "title": ""
    }
   },
   "outputs": [],
   "source": [
    "df_Prioridadpedido, df_rech_prioridadpedido, dq = transformar_silver_df(\n",
    "    prioridadpedido,\n",
    "    rename_map={\"CODPRIORPEDI\":\"id_prioridadpedido\",\"FECCARGA\":\"fecha_carga\", \"DESPRIORPEDI\":\"des_prioridadpedido\"},\n",
    "    casts={\"fecha_carga\":\"timestamp\"},\n",
    "    normalize_whitespace_cols=[\"des_prioridadpedido\"],\n",
    "    trim_cols=[\"des_prioridadpedido\"],\n",
    "    bk_cols=[\"id_prioridadpedido\"],\n",
    "    ts_col=\"fecha_carga\",\n",
    "    watermark_value=\"2025-08-01 00:00:00\",\n",
    "    fillna_map={\"id_prioridadpedido\":0},\n",
    "    non_negative_cols=[\"id_prioridadpedido\"],\n",
    "    regex_validations=False,\n",
    "    not_null_cols=[\"id_prioridadpedido\",\"fecha_carga\"],\n",
    "    ##lookups={\"id_categoria\": (categoria, \"codcat\", \"DESCONOCIDO\")},\n",
    "    etl_source=\"silver_prioridadpedido\",\n",
    "    etl_batch_id=\"20250824_01\",\n",
    "    compute_metrics=False\n",
    ")"
   ]
  },
  {
   "cell_type": "code",
   "execution_count": 0,
   "metadata": {
    "application/vnd.databricks.v1+cell": {
     "cellMetadata": {
      "byteLimit": 2048000,
      "rowLimit": 10000
     },
     "inputWidgets": {},
     "nuid": "b603e35f-8b1c-4f71-bb00-f14f6f8f028e",
     "showTitle": false,
     "tableResultSettingsMap": {},
     "title": ""
    }
   },
   "outputs": [],
   "source": [
    "df_Modalidadventa, df_rech_modalidadventa, dq = transformar_silver_df(\n",
    "    modalidadventa,\n",
    "    rename_map={\"CODMODVALVTA\":\"id_modalidadventa\",\"FECCARGA\":\"fecha_carga\", \"DESMODVALVTA\":\"des_modalidadventa\"},\n",
    "    casts={\"fecha_carga\":\"timestamp\"},\n",
    "    normalize_whitespace_cols=[\"des_modalidadventa\"],\n",
    "    trim_cols=[\"des_modalidadventa\"],\n",
    "    bk_cols=[\"id_modalidadventa\"],\n",
    "    ts_col=\"fecha_carga\",\n",
    "    watermark_value=\"2025-08-01 00:00:00\",\n",
    "    fillna_map={\"id_modalidadventa\":0},\n",
    "    non_negative_cols=[\"id_modalidadventa\"],\n",
    "    regex_validations=False,\n",
    "    not_null_cols=[\"id_modalidadventa\",\"fecha_carga\"],\n",
    "    ##lookups={\"id_categoria\": (categoria, \"codcat\", \"DESCONOCIDO\")},\n",
    "    etl_source=\"silver_modalidadventa\",\n",
    "    etl_batch_id=\"20250824_01\",\n",
    "    compute_metrics=False\n",
    ")"
   ]
  },
  {
   "cell_type": "code",
   "execution_count": 0,
   "metadata": {
    "application/vnd.databricks.v1+cell": {
     "cellMetadata": {
      "byteLimit": 2048000,
      "rowLimit": 10000
     },
     "inputWidgets": {},
     "nuid": "80dd64de-b567-46b8-ad2f-6b64b333780e",
     "showTitle": false,
     "tableResultSettingsMap": {},
     "title": ""
    }
   },
   "outputs": [],
   "source": [
    "df_Modalidadenvio, df_rech_modalidadenvio, dq = transformar_silver_df(\n",
    "    modalidadenvio,\n",
    "    rename_map={\"CODMODALENV\":\"id_modalidadenvio\",\"FECCARGA\":\"fecha_carga\", \"DESMODALENV\":\"des_modalidadenvio\"},\n",
    "    casts={\"fecha_carga\":\"timestamp\"},\n",
    "    normalize_whitespace_cols=[\"des_modalidadenvio\"],\n",
    "    trim_cols=[\"des_modalidadenvio\"],\n",
    "    bk_cols=[\"id_modalidadenvio\"],\n",
    "    ts_col=\"fecha_carga\",\n",
    "    watermark_value=\"2025-08-01 00:00:00\",\n",
    "    fillna_map={\"id_modalidadenvio\":0},\n",
    "    non_negative_cols=[\"id_modalidadenvio\"],\n",
    "    regex_validations=False,\n",
    "    not_null_cols=[\"id_modalidadenvio\",\"fecha_carga\"],\n",
    "    ##lookups={\"id_categoria\": (categoria, \"codcat\", \"DESCONOCIDO\")},\n",
    "    etl_source=\"silver_modalidadenvio\",\n",
    "    etl_batch_id=\"20250824_01\",\n",
    "    compute_metrics=False\n",
    ")"
   ]
  },
  {
   "cell_type": "code",
   "execution_count": 0,
   "metadata": {
    "application/vnd.databricks.v1+cell": {
     "cellMetadata": {
      "byteLimit": 2048000,
      "rowLimit": 10000
     },
     "inputWidgets": {},
     "nuid": "d15c88a4-22f8-45db-ae96-74fcc7a696ba",
     "showTitle": false,
     "tableResultSettingsMap": {},
     "title": ""
    }
   },
   "outputs": [],
   "source": [
    "df_Vendedor, df_rech_vendedor, dq = transformar_silver_df(\n",
    "    vendedor,\n",
    "    rename_map={\"CODVEND\":\"id_vendedor\",\"FECCARGA\":\"fecha_carga\", \"NOMVEND\":\"nom_vendedor\", \"CODMNDA\":\"id_moneda\", \"MTOSUELDOBASE\":\"mto_sueldobase\", \"PCTCOMIS\":\"pct_comision\"},\n",
    "    casts={\"fecha_carga\":\"timestamp\"},\n",
    "    normalize_whitespace_cols=[\"nom_vendedor\"],\n",
    "    trim_cols=[\"nom_vendedor\"],\n",
    "    bk_cols=[\"id_vendedor\"],\n",
    "    ts_col=\"fecha_carga\",\n",
    "    watermark_value=\"2025-08-01 00:00:00\",\n",
    "    fillna_map={\"id_vendedor\":0},\n",
    "    non_negative_cols=[\"id_vendedor\"],\n",
    "    regex_validations=False,\n",
    "    not_null_cols=[\"id_vendedor\",\"fecha_carga\"],\n",
    "    ##lookups={\"id_categoria\": (categoria, \"codcat\", \"DESCONOCIDO\")},\n",
    "    etl_source=\"silver_vendedor\",\n",
    "    etl_batch_id=\"20250824_01\",\n",
    "    compute_metrics=False\n",
    ")"
   ]
  },
  {
   "cell_type": "code",
   "execution_count": 0,
   "metadata": {
    "application/vnd.databricks.v1+cell": {
     "cellMetadata": {
      "byteLimit": 2048000,
      "rowLimit": 10000
     },
     "inputWidgets": {},
     "nuid": "062cca92-423c-4a40-ae17-b7cd6fab3c92",
     "showTitle": false,
     "tableResultSettingsMap": {},
     "title": ""
    }
   },
   "outputs": [],
   "source": [
    "df_Pedido, df_rech_pedido, dq = transformar_silver_df(\n",
    "    pedido,\n",
    "    rename_map={\"IDPEDIDO\":\"id_pedido\",\"FECCARGA\":\"fecha_carga\", \"CODPEDID\":\"cod_pedido\", \"CODCLI\":\"cod_cliente\", \"CODPROD\":\"cod_producto\", \"CODMODVALVTA\":\"id_modalidadventa\", \"CODMEDIOPAGO\":\"id_mediopago\", \"CODVEND\":\"id_vendedor\", \"CODMNDA\":\"id_moneda\", \"IDCLI\":\"id_cliente\", \"IDPRODUCTO\":\"id_producto\", \"CODMODALENV\":\"id_modalidadenvio\", \"CODPRIORPEDI\":\"id_prioridadpedido\", \"MTOVALUNIT\":\"mto_valorunitario\", \"CTDPEDID\":\"nro_pedidos\", \"MTOSUBT\":\"mto_subtotal\", \"MTODSCTO\":\"mto_descuento\", \"MTOBENEF\":\"mto_ganancia\", \"MTOVALVTA\":\"mto_valorventa\", \"MTOIGV\":\"mto_iva\", \"MTOSUBTPROD\":\"mto_subtotalproducto\", \"MTOCSTOENV\":\"mto_costoenvio\", \"MTOTOTPROD\":\"mto_totalproducto\"},\n",
    "    casts={\"fecha_carga\":\"timestamp\"},\n",
    "    normalize_whitespace_cols=[\"cod_pedido\"],\n",
    "    trim_cols=[\"cod_pedido\"],\n",
    "    bk_cols=[\"id_pedido\"],\n",
    "    ts_col=\"fecha_carga\",\n",
    "    watermark_value=\"2025-08-01 00:00:00\",\n",
    "    fillna_map={\"id_pedido\":0},\n",
    "    non_negative_cols=[\"id_pedido\"],\n",
    "    regex_validations=False,\n",
    "    not_null_cols=[\"id_pedido\",\"fecha_carga\"],\n",
    "    ##lookups={\"id_categoria\": (categoria, \"codcat\", \"DESCONOCIDO\")},\n",
    "    etl_source=\"silver_pedido\",\n",
    "    etl_batch_id=\"20250824_01\",\n",
    "    compute_metrics=False\n",
    ")"
   ]
  },
  {
   "cell_type": "code",
   "execution_count": 0,
   "metadata": {
    "application/vnd.databricks.v1+cell": {
     "cellMetadata": {
      "byteLimit": 2048000,
      "implicitDf": true,
      "rowLimit": 10000
     },
     "inputWidgets": {},
     "nuid": "c24f0ce1-11cc-4b27-b725-c5b7708fa2ee",
     "showTitle": false,
     "tableResultSettingsMap": {
      "0": {
       "dataGridStateBlob": "{\"version\":1,\"tableState\":{\"columnPinning\":{\"left\":[\"#row_number#\"],\"right\":[]},\"columnSizing\":{},\"columnVisibility\":{}},\"settings\":{\"columns\":{}},\"syncTimestamp\":1756229496586}",
       "filterBlob": null,
       "queryPlanFiltersBlob": null,
       "tableResultIndex": 0
      }
     },
     "title": ""
    }
   },
   "outputs": [],
   "source": [
    "%sql\n",
    "USE CATALOG desarrollo;\n",
    "\n",
    "SHOW DATABASES;"
   ]
  },
  {
   "cell_type": "code",
   "execution_count": 0,
   "metadata": {
    "application/vnd.databricks.v1+cell": {
     "cellMetadata": {
      "byteLimit": 2048000,
      "rowLimit": 10000
     },
     "inputWidgets": {},
     "nuid": "f239cb22-5a13-4eaa-a7c4-902432956a3e",
     "showTitle": false,
     "tableResultSettingsMap": {},
     "title": ""
    }
   },
   "outputs": [],
   "source": [
    "from typing import List, Optional\n",
    "from delta.tables import DeltaTable\n",
    "\n",
    "def crear_tabla_delta_merge_managed(\n",
    "    nombre_df: str,\n",
    "    nombre_tabla: str,\n",
    "    llave_origen: List[str],\n",
    "    llave_destino: List[str],\n",
    "    db_name: str = \"default\",\n",
    "    catalog_name: str = \"desarrollo\",\n",
    "    partition_cols: Optional[List[str]] = None,\n",
    "    auto_merge_schema: bool = True\n",
    ") -> None:\n",
    "    \"\"\"\n",
    "    Crea si no existe una tabla Delta GESTIONADA en la base (que ya debe tener LOCATION en tu mount)\n",
    "    y realiza MERGE. No usa LOCATION explícito.\n",
    "    \"\"\"\n",
    "\n",
    "    # Validaciones\n",
    "    df = globals()[nombre_df]\n",
    "\n",
    "    if len(llave_origen) != len(llave_destino):\n",
    "        print(\"❌ Error: La cantidad de columnas en 'llave_origen' y 'llave_destino' no coinciden.\")\n",
    "        return\n",
    "\n",
    "    if partition_cols:\n",
    "        faltantes = [c for c in partition_cols if c not in df.columns]\n",
    "        if faltantes:\n",
    "            print(f\"❌ Error: Columnas de partición no existen en el DataFrame: {faltantes}\")\n",
    "            return\n",
    "\n",
    "    if auto_merge_schema:\n",
    "        spark.conf.set(\"spark.databricks.delta.schema.autoMerge.enabled\", \"true\")\n",
    "\n",
    "    # Armar nombre completo\n",
    "    full_name = f\"{catalog_name}.{db_name}.{nombre_tabla}\"\n",
    "\n",
    "    # ✅ FIX: usar el overload moderno (una sola cadena)\n",
    "    exists = spark.catalog.tableExists(full_name)\n",
    "\n",
    "    if not exists:\n",
    "        # Crear como TABLA GESTIONADA en el LOCATION de la DB (sin LOCATION explícito)\n",
    "        writer = df.write.format(\"delta\").mode(\"overwrite\")\n",
    "        if partition_cols:\n",
    "            # ✅ FIX: varargs\n",
    "            writer = writer.partitionBy(*partition_cols)\n",
    "        writer.saveAsTable(full_name)\n",
    "        print(f\"✅ Tabla gestionada creada: {full_name} (bajo LOCATION de la base '{db_name}')\")\n",
    "        return\n",
    "\n",
    "    # Si existe, MERGE\n",
    "    try:\n",
    "        delta_tbl = DeltaTable.forName(spark, full_name)\n",
    "    except Exception as e:\n",
    "        raise RuntimeError(f\"❌ La tabla {full_name} no es Delta o no es accesible como Delta: {e}\")\n",
    "\n",
    "    merge_condition = \" AND \".join(\n",
    "        [f\"tgt.`{llave_destino[i]}` = src.`{llave_origen[i]}`\" for i in range(len(llave_origen))]\n",
    "    )\n",
    "    set_expr  = {c: f\"src.`{c}`\" for c in df.columns}\n",
    "    vals_expr = {c: f\"src.`{c}`\" for c in df.columns}\n",
    "\n",
    "    print(f\"🔄 Ejecutando MERGE INTO {full_name} ...\")\n",
    "    (delta_tbl.alias(\"tgt\")\n",
    "             .merge(df.alias(\"src\"), merge_condition)\n",
    "             .whenMatchedUpdate(set=set_expr)\n",
    "             .whenNotMatchedInsert(values=vals_expr)\n",
    "             .execute())\n",
    "    print(f\"✅ MERGE completado para {full_name}\")"
   ]
  },
  {
   "cell_type": "code",
   "execution_count": 0,
   "metadata": {
    "application/vnd.databricks.v1+cell": {
     "cellMetadata": {
      "byteLimit": 2048000,
      "rowLimit": 10000
     },
     "inputWidgets": {},
     "nuid": "8f585d9d-efac-43c7-9423-781873edaba7",
     "showTitle": false,
     "tableResultSettingsMap": {},
     "title": ""
    }
   },
   "outputs": [],
   "source": [
    "# Ejecutar la función para crear la tabla y hacer MERGE usando diferentes llaves\n",
    "crear_tabla_delta_merge_managed(\n",
    "    nombre_df=\"df_Subcategoria\",\n",
    "    nombre_tabla=\"md_subcategoria\",\n",
    "    llave_origen=[\"id_subcategoria\"],\n",
    "    llave_destino=[\"id_subcategoria\"],\n",
    "    db_name=\"silver_ventas\",\n",
    "    partition_cols=[\"fecha_carga\"]  # opcional; si no quieres partición, quítalo\n",
    ")\n",
    "\n"
   ]
  },
  {
   "cell_type": "code",
   "execution_count": 0,
   "metadata": {
    "application/vnd.databricks.v1+cell": {
     "cellMetadata": {
      "byteLimit": 2048000,
      "rowLimit": 10000
     },
     "inputWidgets": {},
     "nuid": "f2b91973-75f5-4b92-b3e1-501a4a47732e",
     "showTitle": false,
     "tableResultSettingsMap": {},
     "title": ""
    }
   },
   "outputs": [],
   "source": [
    "crear_tabla_delta_merge_managed(\n",
    "    nombre_df=\"df_Categoria\",\n",
    "    nombre_tabla=\"md_categoria\",\n",
    "    llave_origen=[\"id_categoria\"],\n",
    "    llave_destino=[\"id_categoria\"],\n",
    "    db_name=\"silver_ventas\",\n",
    "    partition_cols=[\"fecha_carga\"]  # opcional; si no quieres partición, quítalo\n",
    ")\n"
   ]
  },
  {
   "cell_type": "code",
   "execution_count": 0,
   "metadata": {
    "application/vnd.databricks.v1+cell": {
     "cellMetadata": {
      "byteLimit": 2048000,
      "rowLimit": 10000
     },
     "inputWidgets": {},
     "nuid": "8279262f-ab7d-4e47-afc7-bbc200c73ce2",
     "showTitle": false,
     "tableResultSettingsMap": {},
     "title": ""
    }
   },
   "outputs": [],
   "source": [
    "crear_tabla_delta_merge_managed(\n",
    "    nombre_df=\"df_Moneda\",\n",
    "    nombre_tabla=\"md_moneda\",\n",
    "    llave_origen=[\"id_moneda\"],\n",
    "    llave_destino=[\"id_moneda\"],\n",
    "    db_name=\"silver_ventas\",\n",
    "    partition_cols=[\"fecha_carga\"]  # opcional; si no quieres partición, quítalo\n",
    ")\n"
   ]
  },
  {
   "cell_type": "code",
   "execution_count": 0,
   "metadata": {
    "application/vnd.databricks.v1+cell": {
     "cellMetadata": {
      "byteLimit": 2048000,
      "rowLimit": 10000
     },
     "inputWidgets": {},
     "nuid": "1c7f4d50-e1f2-4f7d-a08d-66641fa59816",
     "showTitle": false,
     "tableResultSettingsMap": {},
     "title": ""
    }
   },
   "outputs": [],
   "source": [
    "crear_tabla_delta_merge_managed(\n",
    "    nombre_df=\"df_Producto\",\n",
    "    nombre_tabla=\"md_producto\",\n",
    "    llave_origen=[\"id_producto\"],\n",
    "    llave_destino=[\"id_producto\"],\n",
    "    db_name=\"silver_ventas\",\n",
    "    partition_cols=[\"fecha_carga\"]  # opcional; si no quieres partición, quítalo\n",
    ")"
   ]
  },
  {
   "cell_type": "code",
   "execution_count": 0,
   "metadata": {
    "application/vnd.databricks.v1+cell": {
     "cellMetadata": {
      "byteLimit": 2048000,
      "rowLimit": 10000
     },
     "inputWidgets": {},
     "nuid": "1e356849-b957-4f19-affb-c7f80202bcf8",
     "showTitle": false,
     "tableResultSettingsMap": {},
     "title": ""
    }
   },
   "outputs": [],
   "source": [
    "crear_tabla_delta_merge_managed(\n",
    "    nombre_df=\"df_Mediopago\",\n",
    "    nombre_tabla=\"md_mediopago\",\n",
    "    llave_origen=[\"id_mediopago\"],\n",
    "    llave_destino=[\"id_mediopago\"],\n",
    "    db_name=\"silver_ventas\",\n",
    "    partition_cols=[\"fecha_carga\"]  # opcional; si no quieres partición, quítalo\n",
    ")"
   ]
  },
  {
   "cell_type": "code",
   "execution_count": 0,
   "metadata": {
    "application/vnd.databricks.v1+cell": {
     "cellMetadata": {
      "byteLimit": 2048000,
      "rowLimit": 10000
     },
     "inputWidgets": {},
     "nuid": "6b254d6e-e498-4051-a0c5-cb8ae76cfc75",
     "showTitle": false,
     "tableResultSettingsMap": {},
     "title": ""
    }
   },
   "outputs": [],
   "source": [
    "crear_tabla_delta_merge_managed(\n",
    "    nombre_df=\"df_Prioridadpedido\",\n",
    "    nombre_tabla=\"md_prioridadpedido\",\n",
    "    llave_origen=[\"id_prioridadpedido\"],\n",
    "    llave_destino=[\"id_prioridadpedido\"],\n",
    "    db_name=\"silver_ventas\",\n",
    "    partition_cols=[\"fecha_carga\"]  # opcional; si no quieres partición, quítalo\n",
    ")"
   ]
  },
  {
   "cell_type": "code",
   "execution_count": 0,
   "metadata": {
    "application/vnd.databricks.v1+cell": {
     "cellMetadata": {
      "byteLimit": 2048000,
      "rowLimit": 10000
     },
     "inputWidgets": {},
     "nuid": "91e32461-ae50-47bd-b4cb-3c01f769a48d",
     "showTitle": false,
     "tableResultSettingsMap": {},
     "title": ""
    }
   },
   "outputs": [],
   "source": [
    "crear_tabla_delta_merge_managed(\n",
    "    nombre_df=\"df_Modalidadenvio\",\n",
    "    nombre_tabla=\"md_modalidadenvio\",\n",
    "    llave_origen=[\"id_modalidadenvio\"],\n",
    "    llave_destino=[\"id_modalidadenvio\"],\n",
    "    db_name=\"silver_ventas\",\n",
    "    partition_cols=[\"fecha_carga\"]  # opcional; si no quieres partición, quítalo\n",
    ")"
   ]
  },
  {
   "cell_type": "code",
   "execution_count": 0,
   "metadata": {
    "application/vnd.databricks.v1+cell": {
     "cellMetadata": {
      "byteLimit": 2048000,
      "rowLimit": 10000
     },
     "inputWidgets": {},
     "nuid": "7d4f473c-f6f8-4f12-849f-01e859553336",
     "showTitle": false,
     "tableResultSettingsMap": {},
     "title": ""
    }
   },
   "outputs": [],
   "source": [
    "crear_tabla_delta_merge_managed(\n",
    "    nombre_df=\"df_Modalidadventa\",\n",
    "    nombre_tabla=\"md_modalidadventa\",\n",
    "    llave_origen=[\"id_modalidadventa\"],\n",
    "    llave_destino=[\"id_modalidadventa\"],\n",
    "    db_name=\"silver_ventas\",\n",
    "    partition_cols=[\"fecha_carga\"]  # opcional; si no quieres partición, quítalo\n",
    ")"
   ]
  },
  {
   "cell_type": "code",
   "execution_count": 0,
   "metadata": {
    "application/vnd.databricks.v1+cell": {
     "cellMetadata": {
      "byteLimit": 2048000,
      "rowLimit": 10000
     },
     "inputWidgets": {},
     "nuid": "a5d986d2-b569-47bc-8e36-6939e1528cff",
     "showTitle": false,
     "tableResultSettingsMap": {},
     "title": ""
    }
   },
   "outputs": [],
   "source": [
    "crear_tabla_delta_merge_managed(\n",
    "    nombre_df=\"df_Segmento\",\n",
    "    nombre_tabla=\"md_segmento\",\n",
    "    llave_origen=[\"id_segmento\"],\n",
    "    llave_destino=[\"id_segmento\"],\n",
    "    db_name=\"silver_ventas\",\n",
    "    partition_cols=[\"fecha_carga\"]  # opcional; si no quieres partición, quítalo\n",
    ")"
   ]
  },
  {
   "cell_type": "code",
   "execution_count": 0,
   "metadata": {
    "application/vnd.databricks.v1+cell": {
     "cellMetadata": {
      "byteLimit": 2048000,
      "rowLimit": 10000
     },
     "inputWidgets": {},
     "nuid": "b71ec8ca-e640-4fc1-b6c8-4d043d97e535",
     "showTitle": false,
     "tableResultSettingsMap": {},
     "title": ""
    }
   },
   "outputs": [],
   "source": [
    "crear_tabla_delta_merge_managed(\n",
    "    nombre_df=\"df_Sectoreconomico\",\n",
    "    nombre_tabla=\"md_sectoreconomico\",\n",
    "    llave_origen=[\"id_sectoreconomico\"],\n",
    "    llave_destino=[\"id_sectoreconomico\"],\n",
    "    db_name=\"silver_ventas\",\n",
    "    partition_cols=[\"fecha_carga\"]  # opcional; si no quieres partición, quítalo\n",
    ")"
   ]
  },
  {
   "cell_type": "code",
   "execution_count": 0,
   "metadata": {
    "application/vnd.databricks.v1+cell": {
     "cellMetadata": {
      "byteLimit": 2048000,
      "rowLimit": 10000
     },
     "inputWidgets": {},
     "nuid": "c934ced7-5b5a-4374-bfee-6c150110c8f6",
     "showTitle": false,
     "tableResultSettingsMap": {},
     "title": ""
    }
   },
   "outputs": [],
   "source": [
    "crear_tabla_delta_merge_managed(\n",
    "    nombre_df=\"df_Mercado\",\n",
    "    nombre_tabla=\"md_mercado\",\n",
    "    llave_origen=[\"id_mercado\"],\n",
    "    llave_destino=[\"id_mercado\"],\n",
    "    db_name=\"silver_ventas\",\n",
    "    partition_cols=[\"fecha_carga\"]  # opcional; si no quieres partición, quítalo\n",
    ")"
   ]
  },
  {
   "cell_type": "code",
   "execution_count": 0,
   "metadata": {
    "application/vnd.databricks.v1+cell": {
     "cellMetadata": {
      "byteLimit": 2048000,
      "rowLimit": 10000
     },
     "inputWidgets": {},
     "nuid": "d14b2d58-14bd-46f4-9dc3-faf5bc1e939a",
     "showTitle": false,
     "tableResultSettingsMap": {},
     "title": ""
    }
   },
   "outputs": [],
   "source": [
    "crear_tabla_delta_merge_managed(\n",
    "    nombre_df=\"df_Ubigeo\",\n",
    "    nombre_tabla=\"md_ubigeo\",\n",
    "    llave_origen=[\"id_ubigeo\"],\n",
    "    llave_destino=[\"id_ubigeo\"],\n",
    "    db_name=\"silver_ventas\",\n",
    "    partition_cols=[\"fecha_carga\"]  # opcional; si no quieres partición, quítalo\n",
    ")"
   ]
  },
  {
   "cell_type": "code",
   "execution_count": 0,
   "metadata": {
    "application/vnd.databricks.v1+cell": {
     "cellMetadata": {
      "byteLimit": 2048000,
      "rowLimit": 10000
     },
     "inputWidgets": {},
     "nuid": "14397b2b-903a-46db-b7d5-98bc70ebd462",
     "showTitle": false,
     "tableResultSettingsMap": {},
     "title": ""
    }
   },
   "outputs": [],
   "source": [
    "# crear_tabla_delta_merge_managed(\n",
    "#     nombre_df=\"df_Cliente\",\n",
    "#     nombre_tabla=\"md_cliente\",\n",
    "#     llave_origen=[\"id_cliente\"],\n",
    "#     llave_destino=[\"id_cliente\"],\n",
    "#     db_name=\"silver_ventas\",\n",
    "#     partition_cols=[\"fecha_carga\"]  # opcional; si no quieres partición, quítalo\n",
    "# )"
   ]
  },
  {
   "cell_type": "code",
   "execution_count": 0,
   "metadata": {
    "application/vnd.databricks.v1+cell": {
     "cellMetadata": {
      "byteLimit": 2048000,
      "rowLimit": 10000
     },
     "inputWidgets": {},
     "nuid": "cfb8267c-99c6-48e2-ae0b-ddb6d1c80d14",
     "showTitle": false,
     "tableResultSettingsMap": {},
     "title": ""
    }
   },
   "outputs": [],
   "source": [
    "crear_tabla_delta_merge_managed(\n",
    "    nombre_df=\"df_Vendedor\",\n",
    "    nombre_tabla=\"md_vendedor\",\n",
    "    llave_origen=[\"id_vendedor\"],\n",
    "    llave_destino=[\"id_vendedor\"],\n",
    "    db_name=\"silver_ventas\",\n",
    "    partition_cols=[\"fecha_carga\"]  # opcional; si no quieres partición, quítalo\n",
    ")"
   ]
  },
  {
   "cell_type": "code",
   "execution_count": 0,
   "metadata": {
    "application/vnd.databricks.v1+cell": {
     "cellMetadata": {
      "byteLimit": 2048000,
      "rowLimit": 10000
     },
     "inputWidgets": {},
     "nuid": "56f653b8-5384-4e15-ab29-3c65f272002f",
     "showTitle": false,
     "tableResultSettingsMap": {},
     "title": ""
    }
   },
   "outputs": [],
   "source": [
    "crear_tabla_delta_merge_managed(\n",
    "    nombre_df=\"df_Pedido\",\n",
    "    nombre_tabla=\"hd_pedido\",\n",
    "    llave_origen=[\"id_pedido\"],\n",
    "    llave_destino=[\"id_pedido\"],\n",
    "    db_name=\"silver_ventas\",\n",
    "    partition_cols=[\"fecha_carga\"]  # opcional; si no quieres partición, quítalo\n",
    ")"
   ]
  }
 ],
 "metadata": {
  "application/vnd.databricks.v1+notebook": {
   "computePreferences": null,
   "dashboards": [],
   "environmentMetadata": null,
   "inputWidgetPreferences": null,
   "language": "python",
   "notebookMetadata": {
    "mostRecentlyExecutedCommandWithImplicitDF": {
     "commandId": 3522282755143221,
     "dataframes": [
      "_sqldf"
     ]
    },
    "pythonIndentUnit": 4
   },
   "notebookName": "uc_ventas02_transformacion_silver_databricks",
   "widgets": {}
  },
  "language_info": {
   "name": "python"
  }
 },
 "nbformat": 4,
 "nbformat_minor": 0
}
