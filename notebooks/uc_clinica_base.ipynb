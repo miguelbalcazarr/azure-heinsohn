{
 "cells": [
  {
   "cell_type": "code",
   "execution_count": 0,
   "metadata": {
    "application/vnd.databricks.v1+cell": {
     "cellMetadata": {
      "byteLimit": 2048000,
      "rowLimit": 10000
     },
     "inputWidgets": {},
     "nuid": "ba7233e4-6afd-4b66-a2c5-4326f4fc994e",
     "showTitle": false,
     "tableResultSettingsMap": {},
     "title": ""
    }
   },
   "outputs": [],
   "source": [
    "# Reemplazar los valores segun la infra desplegada en Azure\n",
    "account_name = \"adlspreventa02\"\n",
    "container_name = \"desarrollo\"\n",
    "path_base = f\"abfss://{container_name}@{account_name}.dfs.core.windows.net\"\n",
    "\n",
    "catalog_name = \"desarrollo\"\n",
    "schema_bronze = \"bronze_clinica\"\n",
    "schema_silver = \"silver_clinica\"\n",
    "schema_gold = \"gold_clinica\""
   ]
  },
  {
   "cell_type": "code",
   "execution_count": 0,
   "metadata": {
    "application/vnd.databricks.v1+cell": {
     "cellMetadata": {
      "byteLimit": 2048000,
      "rowLimit": 10000
     },
     "inputWidgets": {},
     "nuid": "2cdeaf75-6973-42f3-b8b5-22b22cb3d814",
     "showTitle": false,
     "tableResultSettingsMap": {},
     "title": ""
    }
   },
   "outputs": [],
   "source": [
    "spark.sql(f\"\"\"\n",
    "        CREATE CATALOG IF NOT EXISTS {catalog_name}\n",
    "        MANAGED LOCATION '{path_base}/{catalog_name}'\n",
    "\"\"\"\n",
    ")\n",
    "\n",
    "print(f\"CATALOG: {catalog_name} creado exitosamente.\")"
   ]
  },
  {
   "cell_type": "code",
   "execution_count": 0,
   "metadata": {
    "application/vnd.databricks.v1+cell": {
     "cellMetadata": {
      "byteLimit": 2048000,
      "rowLimit": 10000
     },
     "inputWidgets": {},
     "nuid": "60d08de7-6af6-495b-94da-5947d52e529c",
     "showTitle": false,
     "tableResultSettingsMap": {},
     "title": ""
    }
   },
   "outputs": [],
   "source": [
    "spark.sql(f\"\"\"\n",
    "        CREATE SCHEMA IF NOT EXISTS {catalog_name}.{schema_bronze}\n",
    "        MANAGED LOCATION '{path_base}/{catalog_name}/{schema_bronze}'\n",
    "\"\"\")\n",
    "\n",
    "print(f\"SCHEMA: {catalog_name}.{schema_bronze} creado exitosamente.\")"
   ]
  },
  {
   "cell_type": "code",
   "execution_count": 0,
   "metadata": {
    "application/vnd.databricks.v1+cell": {
     "cellMetadata": {
      "byteLimit": 2048000,
      "rowLimit": 10000
     },
     "inputWidgets": {},
     "nuid": "3bdf6e25-1e9d-4333-97f8-0397ea914b34",
     "showTitle": false,
     "tableResultSettingsMap": {},
     "title": ""
    }
   },
   "outputs": [],
   "source": [
    "spark.sql(f\"\"\"\n",
    "        CREATE SCHEMA IF NOT EXISTS {catalog_name}.{schema_silver}\n",
    "        MANAGED LOCATION '{path_base}/{catalog_name}/{schema_silver}'\n",
    "\"\"\")\n",
    "\n",
    "print(f\"SCHEMA: {catalog_name}.{schema_silver} creado exitosamente.\")"
   ]
  },
  {
   "cell_type": "code",
   "execution_count": 0,
   "metadata": {
    "application/vnd.databricks.v1+cell": {
     "cellMetadata": {
      "byteLimit": 2048000,
      "rowLimit": 10000
     },
     "inputWidgets": {},
     "nuid": "9c1c0f76-3123-4b2c-bef1-f89090ee6d9c",
     "showTitle": false,
     "tableResultSettingsMap": {},
     "title": ""
    }
   },
   "outputs": [],
   "source": [
    "spark.sql(f\"\"\"\n",
    "        CREATE SCHEMA IF NOT EXISTS {catalog_name}.{schema_gold}\n",
    "        MANAGED LOCATION '{path_base}/{catalog_name}/{schema_gold}'\n",
    "\"\"\")\n",
    "\n",
    "print(f\"SCHEMA: {catalog_name}.{schema_gold} creado exitosamente.\")"
   ]
  }
 ],
 "metadata": {
  "application/vnd.databricks.v1+notebook": {
   "computePreferences": null,
   "dashboards": [],
   "environmentMetadata": {
    "base_environment": "",
    "environment_version": "3"
   },
   "inputWidgetPreferences": null,
   "language": "python",
   "notebookMetadata": {
    "pythonIndentUnit": 4
   },
   "notebookName": "uc_clinica_base",
   "widgets": {}
  },
  "language_info": {
   "name": "python"
  }
 },
 "nbformat": 4,
 "nbformat_minor": 0
}
